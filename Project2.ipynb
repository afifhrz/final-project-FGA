{
  "nbformat": 4,
  "nbformat_minor": 0,
  "metadata": {
    "colab": {
      "name": "Project2.ipynb",
      "provenance": [],
      "collapsed_sections": []
    },
    "kernelspec": {
      "name": "python3",
      "display_name": "Python 3"
    },
    "language_info": {
      "name": "python"
    },
    "accelerator": "GPU"
  },
  "cells": [
    {
      "cell_type": "markdown",
      "metadata": {
        "id": "rP_kgeGYAio6"
      },
      "source": [
        "#Ahmad Afif Aulia Hariz"
      ]
    },
    {
      "cell_type": "markdown",
      "metadata": {
        "id": "7hv7tTINAmIg"
      },
      "source": [
        "#Data Mounting"
      ]
    },
    {
      "cell_type": "code",
      "metadata": {
        "id": "oUH08ntJAaMa",
        "colab": {
          "base_uri": "https://localhost:8080/"
        },
        "outputId": "00f6eb40-9411-47b3-b2c2-d80ec0ab76bf"
      },
      "source": [
        "from google.colab import drive\n",
        "drive.mount('/content/drive', force_remount=True)"
      ],
      "execution_count": 88,
      "outputs": [
        {
          "output_type": "stream",
          "text": [
            "Mounted at /content/drive\n"
          ],
          "name": "stdout"
        }
      ]
    },
    {
      "cell_type": "code",
      "metadata": {
        "id": "HqWueNKVAsst"
      },
      "source": [
        "import pandas as pd\n",
        "import numpy as np"
      ],
      "execution_count": 89,
      "outputs": []
    },
    {
      "cell_type": "code",
      "metadata": {
        "id": "D2yR1pffAuko"
      },
      "source": [
        "df = pd.read_csv('/content/drive/MyDrive/Colab Notebooks/jena_climate_2009_2016.csv')"
      ],
      "execution_count": 90,
      "outputs": []
    },
    {
      "cell_type": "code",
      "metadata": {
        "colab": {
          "base_uri": "https://localhost:8080/",
          "height": 597
        },
        "id": "Daxxgsr0Ckla",
        "outputId": "1ae92e49-43b8-4291-9cff-d81cb2db1b41"
      },
      "source": [
        "df=df.head(30000)\n",
        "df"
      ],
      "execution_count": 91,
      "outputs": [
        {
          "output_type": "execute_result",
          "data": {
            "text/html": [
              "<div>\n",
              "<style scoped>\n",
              "    .dataframe tbody tr th:only-of-type {\n",
              "        vertical-align: middle;\n",
              "    }\n",
              "\n",
              "    .dataframe tbody tr th {\n",
              "        vertical-align: top;\n",
              "    }\n",
              "\n",
              "    .dataframe thead th {\n",
              "        text-align: right;\n",
              "    }\n",
              "</style>\n",
              "<table border=\"1\" class=\"dataframe\">\n",
              "  <thead>\n",
              "    <tr style=\"text-align: right;\">\n",
              "      <th></th>\n",
              "      <th>Date Time</th>\n",
              "      <th>p (mbar)</th>\n",
              "      <th>T (degC)</th>\n",
              "      <th>Tpot (K)</th>\n",
              "      <th>Tdew (degC)</th>\n",
              "      <th>rh (%)</th>\n",
              "      <th>VPmax (mbar)</th>\n",
              "      <th>VPact (mbar)</th>\n",
              "      <th>VPdef (mbar)</th>\n",
              "      <th>sh (g/kg)</th>\n",
              "      <th>H2OC (mmol/mol)</th>\n",
              "      <th>rho (g/m**3)</th>\n",
              "      <th>wv (m/s)</th>\n",
              "      <th>max. wv (m/s)</th>\n",
              "      <th>wd (deg)</th>\n",
              "    </tr>\n",
              "  </thead>\n",
              "  <tbody>\n",
              "    <tr>\n",
              "      <th>0</th>\n",
              "      <td>01.01.2009 00:10:00</td>\n",
              "      <td>996.52</td>\n",
              "      <td>-8.02</td>\n",
              "      <td>265.40</td>\n",
              "      <td>-8.90</td>\n",
              "      <td>93.3</td>\n",
              "      <td>3.33</td>\n",
              "      <td>3.11</td>\n",
              "      <td>0.22</td>\n",
              "      <td>1.94</td>\n",
              "      <td>3.12</td>\n",
              "      <td>1307.75</td>\n",
              "      <td>1.03</td>\n",
              "      <td>1.75</td>\n",
              "      <td>152.3</td>\n",
              "    </tr>\n",
              "    <tr>\n",
              "      <th>1</th>\n",
              "      <td>01.01.2009 00:20:00</td>\n",
              "      <td>996.57</td>\n",
              "      <td>-8.41</td>\n",
              "      <td>265.01</td>\n",
              "      <td>-9.28</td>\n",
              "      <td>93.4</td>\n",
              "      <td>3.23</td>\n",
              "      <td>3.02</td>\n",
              "      <td>0.21</td>\n",
              "      <td>1.89</td>\n",
              "      <td>3.03</td>\n",
              "      <td>1309.80</td>\n",
              "      <td>0.72</td>\n",
              "      <td>1.50</td>\n",
              "      <td>136.1</td>\n",
              "    </tr>\n",
              "    <tr>\n",
              "      <th>2</th>\n",
              "      <td>01.01.2009 00:30:00</td>\n",
              "      <td>996.53</td>\n",
              "      <td>-8.51</td>\n",
              "      <td>264.91</td>\n",
              "      <td>-9.31</td>\n",
              "      <td>93.9</td>\n",
              "      <td>3.21</td>\n",
              "      <td>3.01</td>\n",
              "      <td>0.20</td>\n",
              "      <td>1.88</td>\n",
              "      <td>3.02</td>\n",
              "      <td>1310.24</td>\n",
              "      <td>0.19</td>\n",
              "      <td>0.63</td>\n",
              "      <td>171.6</td>\n",
              "    </tr>\n",
              "    <tr>\n",
              "      <th>3</th>\n",
              "      <td>01.01.2009 00:40:00</td>\n",
              "      <td>996.51</td>\n",
              "      <td>-8.31</td>\n",
              "      <td>265.12</td>\n",
              "      <td>-9.07</td>\n",
              "      <td>94.2</td>\n",
              "      <td>3.26</td>\n",
              "      <td>3.07</td>\n",
              "      <td>0.19</td>\n",
              "      <td>1.92</td>\n",
              "      <td>3.08</td>\n",
              "      <td>1309.19</td>\n",
              "      <td>0.34</td>\n",
              "      <td>0.50</td>\n",
              "      <td>198.0</td>\n",
              "    </tr>\n",
              "    <tr>\n",
              "      <th>4</th>\n",
              "      <td>01.01.2009 00:50:00</td>\n",
              "      <td>996.51</td>\n",
              "      <td>-8.27</td>\n",
              "      <td>265.15</td>\n",
              "      <td>-9.04</td>\n",
              "      <td>94.1</td>\n",
              "      <td>3.27</td>\n",
              "      <td>3.08</td>\n",
              "      <td>0.19</td>\n",
              "      <td>1.92</td>\n",
              "      <td>3.09</td>\n",
              "      <td>1309.00</td>\n",
              "      <td>0.32</td>\n",
              "      <td>0.63</td>\n",
              "      <td>214.3</td>\n",
              "    </tr>\n",
              "    <tr>\n",
              "      <th>...</th>\n",
              "      <td>...</td>\n",
              "      <td>...</td>\n",
              "      <td>...</td>\n",
              "      <td>...</td>\n",
              "      <td>...</td>\n",
              "      <td>...</td>\n",
              "      <td>...</td>\n",
              "      <td>...</td>\n",
              "      <td>...</td>\n",
              "      <td>...</td>\n",
              "      <td>...</td>\n",
              "      <td>...</td>\n",
              "      <td>...</td>\n",
              "      <td>...</td>\n",
              "      <td>...</td>\n",
              "    </tr>\n",
              "    <tr>\n",
              "      <th>29995</th>\n",
              "      <td>28.07.2009 07:20:00</td>\n",
              "      <td>992.97</td>\n",
              "      <td>15.50</td>\n",
              "      <td>289.24</td>\n",
              "      <td>10.87</td>\n",
              "      <td>73.9</td>\n",
              "      <td>17.64</td>\n",
              "      <td>13.03</td>\n",
              "      <td>4.60</td>\n",
              "      <td>8.20</td>\n",
              "      <td>13.13</td>\n",
              "      <td>1192.39</td>\n",
              "      <td>1.77</td>\n",
              "      <td>3.38</td>\n",
              "      <td>259.5</td>\n",
              "    </tr>\n",
              "    <tr>\n",
              "      <th>29996</th>\n",
              "      <td>28.07.2009 07:30:00</td>\n",
              "      <td>993.03</td>\n",
              "      <td>15.49</td>\n",
              "      <td>289.23</td>\n",
              "      <td>10.90</td>\n",
              "      <td>74.1</td>\n",
              "      <td>17.62</td>\n",
              "      <td>13.06</td>\n",
              "      <td>4.56</td>\n",
              "      <td>8.22</td>\n",
              "      <td>13.15</td>\n",
              "      <td>1192.49</td>\n",
              "      <td>1.30</td>\n",
              "      <td>2.25</td>\n",
              "      <td>241.8</td>\n",
              "    </tr>\n",
              "    <tr>\n",
              "      <th>29997</th>\n",
              "      <td>28.07.2009 07:40:00</td>\n",
              "      <td>993.15</td>\n",
              "      <td>15.55</td>\n",
              "      <td>289.28</td>\n",
              "      <td>10.76</td>\n",
              "      <td>73.1</td>\n",
              "      <td>17.69</td>\n",
              "      <td>12.93</td>\n",
              "      <td>4.76</td>\n",
              "      <td>8.14</td>\n",
              "      <td>13.02</td>\n",
              "      <td>1192.45</td>\n",
              "      <td>1.57</td>\n",
              "      <td>2.75</td>\n",
              "      <td>234.6</td>\n",
              "    </tr>\n",
              "    <tr>\n",
              "      <th>29998</th>\n",
              "      <td>28.07.2009 07:50:00</td>\n",
              "      <td>993.23</td>\n",
              "      <td>15.73</td>\n",
              "      <td>289.45</td>\n",
              "      <td>10.85</td>\n",
              "      <td>72.7</td>\n",
              "      <td>17.90</td>\n",
              "      <td>13.01</td>\n",
              "      <td>4.89</td>\n",
              "      <td>8.19</td>\n",
              "      <td>13.10</td>\n",
              "      <td>1191.77</td>\n",
              "      <td>1.32</td>\n",
              "      <td>3.13</td>\n",
              "      <td>251.7</td>\n",
              "    </tr>\n",
              "    <tr>\n",
              "      <th>29999</th>\n",
              "      <td>28.07.2009 08:00:00</td>\n",
              "      <td>993.25</td>\n",
              "      <td>15.92</td>\n",
              "      <td>289.64</td>\n",
              "      <td>10.97</td>\n",
              "      <td>72.4</td>\n",
              "      <td>18.12</td>\n",
              "      <td>13.12</td>\n",
              "      <td>5.00</td>\n",
              "      <td>8.26</td>\n",
              "      <td>13.21</td>\n",
              "      <td>1190.96</td>\n",
              "      <td>1.11</td>\n",
              "      <td>2.38</td>\n",
              "      <td>241.2</td>\n",
              "    </tr>\n",
              "  </tbody>\n",
              "</table>\n",
              "<p>30000 rows × 15 columns</p>\n",
              "</div>"
            ],
            "text/plain": [
              "                 Date Time  p (mbar)  ...  max. wv (m/s)  wd (deg)\n",
              "0      01.01.2009 00:10:00    996.52  ...           1.75     152.3\n",
              "1      01.01.2009 00:20:00    996.57  ...           1.50     136.1\n",
              "2      01.01.2009 00:30:00    996.53  ...           0.63     171.6\n",
              "3      01.01.2009 00:40:00    996.51  ...           0.50     198.0\n",
              "4      01.01.2009 00:50:00    996.51  ...           0.63     214.3\n",
              "...                    ...       ...  ...            ...       ...\n",
              "29995  28.07.2009 07:20:00    992.97  ...           3.38     259.5\n",
              "29996  28.07.2009 07:30:00    993.03  ...           2.25     241.8\n",
              "29997  28.07.2009 07:40:00    993.15  ...           2.75     234.6\n",
              "29998  28.07.2009 07:50:00    993.23  ...           3.13     251.7\n",
              "29999  28.07.2009 08:00:00    993.25  ...           2.38     241.2\n",
              "\n",
              "[30000 rows x 15 columns]"
            ]
          },
          "metadata": {
            "tags": []
          },
          "execution_count": 91
        }
      ]
    },
    {
      "cell_type": "code",
      "metadata": {
        "colab": {
          "base_uri": "https://localhost:8080/"
        },
        "id": "IGG-LbvCFd1I",
        "outputId": "8f6af81c-ee29-4379-b507-de62cb75bef3"
      },
      "source": [
        "df.isnull().sum()"
      ],
      "execution_count": 92,
      "outputs": [
        {
          "output_type": "execute_result",
          "data": {
            "text/plain": [
              "Date Time          0\n",
              "p (mbar)           0\n",
              "T (degC)           0\n",
              "Tpot (K)           0\n",
              "Tdew (degC)        0\n",
              "rh (%)             0\n",
              "VPmax (mbar)       0\n",
              "VPact (mbar)       0\n",
              "VPdef (mbar)       0\n",
              "sh (g/kg)          0\n",
              "H2OC (mmol/mol)    0\n",
              "rho (g/m**3)       0\n",
              "wv (m/s)           0\n",
              "max. wv (m/s)      0\n",
              "wd (deg)           0\n",
              "dtype: int64"
            ]
          },
          "metadata": {
            "tags": []
          },
          "execution_count": 92
        }
      ]
    },
    {
      "cell_type": "code",
      "metadata": {
        "id": "t4wqGJq6MhEk"
      },
      "source": [
        "from sklearn.model_selection import train_test_split\n",
        "data_train, data_test = train_test_split(df, shuffle=False, test_size=0.2)"
      ],
      "execution_count": 93,
      "outputs": []
    },
    {
      "cell_type": "code",
      "metadata": {
        "colab": {
          "base_uri": "https://localhost:8080/",
          "height": 597
        },
        "id": "u8wXEJCWXL7n",
        "outputId": "288fa3b5-c21f-4f94-dc3b-82427267c781"
      },
      "source": [
        "data_train"
      ],
      "execution_count": 94,
      "outputs": [
        {
          "output_type": "execute_result",
          "data": {
            "text/html": [
              "<div>\n",
              "<style scoped>\n",
              "    .dataframe tbody tr th:only-of-type {\n",
              "        vertical-align: middle;\n",
              "    }\n",
              "\n",
              "    .dataframe tbody tr th {\n",
              "        vertical-align: top;\n",
              "    }\n",
              "\n",
              "    .dataframe thead th {\n",
              "        text-align: right;\n",
              "    }\n",
              "</style>\n",
              "<table border=\"1\" class=\"dataframe\">\n",
              "  <thead>\n",
              "    <tr style=\"text-align: right;\">\n",
              "      <th></th>\n",
              "      <th>Date Time</th>\n",
              "      <th>p (mbar)</th>\n",
              "      <th>T (degC)</th>\n",
              "      <th>Tpot (K)</th>\n",
              "      <th>Tdew (degC)</th>\n",
              "      <th>rh (%)</th>\n",
              "      <th>VPmax (mbar)</th>\n",
              "      <th>VPact (mbar)</th>\n",
              "      <th>VPdef (mbar)</th>\n",
              "      <th>sh (g/kg)</th>\n",
              "      <th>H2OC (mmol/mol)</th>\n",
              "      <th>rho (g/m**3)</th>\n",
              "      <th>wv (m/s)</th>\n",
              "      <th>max. wv (m/s)</th>\n",
              "      <th>wd (deg)</th>\n",
              "    </tr>\n",
              "  </thead>\n",
              "  <tbody>\n",
              "    <tr>\n",
              "      <th>0</th>\n",
              "      <td>01.01.2009 00:10:00</td>\n",
              "      <td>996.52</td>\n",
              "      <td>-8.02</td>\n",
              "      <td>265.40</td>\n",
              "      <td>-8.90</td>\n",
              "      <td>93.30</td>\n",
              "      <td>3.33</td>\n",
              "      <td>3.11</td>\n",
              "      <td>0.22</td>\n",
              "      <td>1.94</td>\n",
              "      <td>3.12</td>\n",
              "      <td>1307.75</td>\n",
              "      <td>1.03</td>\n",
              "      <td>1.75</td>\n",
              "      <td>152.3</td>\n",
              "    </tr>\n",
              "    <tr>\n",
              "      <th>1</th>\n",
              "      <td>01.01.2009 00:20:00</td>\n",
              "      <td>996.57</td>\n",
              "      <td>-8.41</td>\n",
              "      <td>265.01</td>\n",
              "      <td>-9.28</td>\n",
              "      <td>93.40</td>\n",
              "      <td>3.23</td>\n",
              "      <td>3.02</td>\n",
              "      <td>0.21</td>\n",
              "      <td>1.89</td>\n",
              "      <td>3.03</td>\n",
              "      <td>1309.80</td>\n",
              "      <td>0.72</td>\n",
              "      <td>1.50</td>\n",
              "      <td>136.1</td>\n",
              "    </tr>\n",
              "    <tr>\n",
              "      <th>2</th>\n",
              "      <td>01.01.2009 00:30:00</td>\n",
              "      <td>996.53</td>\n",
              "      <td>-8.51</td>\n",
              "      <td>264.91</td>\n",
              "      <td>-9.31</td>\n",
              "      <td>93.90</td>\n",
              "      <td>3.21</td>\n",
              "      <td>3.01</td>\n",
              "      <td>0.20</td>\n",
              "      <td>1.88</td>\n",
              "      <td>3.02</td>\n",
              "      <td>1310.24</td>\n",
              "      <td>0.19</td>\n",
              "      <td>0.63</td>\n",
              "      <td>171.6</td>\n",
              "    </tr>\n",
              "    <tr>\n",
              "      <th>3</th>\n",
              "      <td>01.01.2009 00:40:00</td>\n",
              "      <td>996.51</td>\n",
              "      <td>-8.31</td>\n",
              "      <td>265.12</td>\n",
              "      <td>-9.07</td>\n",
              "      <td>94.20</td>\n",
              "      <td>3.26</td>\n",
              "      <td>3.07</td>\n",
              "      <td>0.19</td>\n",
              "      <td>1.92</td>\n",
              "      <td>3.08</td>\n",
              "      <td>1309.19</td>\n",
              "      <td>0.34</td>\n",
              "      <td>0.50</td>\n",
              "      <td>198.0</td>\n",
              "    </tr>\n",
              "    <tr>\n",
              "      <th>4</th>\n",
              "      <td>01.01.2009 00:50:00</td>\n",
              "      <td>996.51</td>\n",
              "      <td>-8.27</td>\n",
              "      <td>265.15</td>\n",
              "      <td>-9.04</td>\n",
              "      <td>94.10</td>\n",
              "      <td>3.27</td>\n",
              "      <td>3.08</td>\n",
              "      <td>0.19</td>\n",
              "      <td>1.92</td>\n",
              "      <td>3.09</td>\n",
              "      <td>1309.00</td>\n",
              "      <td>0.32</td>\n",
              "      <td>0.63</td>\n",
              "      <td>214.3</td>\n",
              "    </tr>\n",
              "    <tr>\n",
              "      <th>...</th>\n",
              "      <td>...</td>\n",
              "      <td>...</td>\n",
              "      <td>...</td>\n",
              "      <td>...</td>\n",
              "      <td>...</td>\n",
              "      <td>...</td>\n",
              "      <td>...</td>\n",
              "      <td>...</td>\n",
              "      <td>...</td>\n",
              "      <td>...</td>\n",
              "      <td>...</td>\n",
              "      <td>...</td>\n",
              "      <td>...</td>\n",
              "      <td>...</td>\n",
              "      <td>...</td>\n",
              "    </tr>\n",
              "    <tr>\n",
              "      <th>23995</th>\n",
              "      <td>16.06.2009 15:20:00</td>\n",
              "      <td>994.32</td>\n",
              "      <td>17.27</td>\n",
              "      <td>290.90</td>\n",
              "      <td>9.84</td>\n",
              "      <td>61.61</td>\n",
              "      <td>19.74</td>\n",
              "      <td>12.16</td>\n",
              "      <td>7.58</td>\n",
              "      <td>7.64</td>\n",
              "      <td>12.23</td>\n",
              "      <td>1187.14</td>\n",
              "      <td>2.02</td>\n",
              "      <td>3.50</td>\n",
              "      <td>269.1</td>\n",
              "    </tr>\n",
              "    <tr>\n",
              "      <th>23996</th>\n",
              "      <td>16.06.2009 15:30:00</td>\n",
              "      <td>994.20</td>\n",
              "      <td>17.06</td>\n",
              "      <td>290.70</td>\n",
              "      <td>9.19</td>\n",
              "      <td>59.75</td>\n",
              "      <td>19.48</td>\n",
              "      <td>11.64</td>\n",
              "      <td>7.84</td>\n",
              "      <td>7.31</td>\n",
              "      <td>11.71</td>\n",
              "      <td>1188.09</td>\n",
              "      <td>2.40</td>\n",
              "      <td>5.00</td>\n",
              "      <td>268.2</td>\n",
              "    </tr>\n",
              "    <tr>\n",
              "      <th>23997</th>\n",
              "      <td>16.06.2009 15:40:00</td>\n",
              "      <td>994.17</td>\n",
              "      <td>17.06</td>\n",
              "      <td>290.71</td>\n",
              "      <td>8.94</td>\n",
              "      <td>58.75</td>\n",
              "      <td>19.48</td>\n",
              "      <td>11.45</td>\n",
              "      <td>8.04</td>\n",
              "      <td>7.19</td>\n",
              "      <td>11.51</td>\n",
              "      <td>1188.14</td>\n",
              "      <td>1.71</td>\n",
              "      <td>2.75</td>\n",
              "      <td>274.0</td>\n",
              "    </tr>\n",
              "    <tr>\n",
              "      <th>23998</th>\n",
              "      <td>16.06.2009 15:50:00</td>\n",
              "      <td>994.28</td>\n",
              "      <td>17.12</td>\n",
              "      <td>290.76</td>\n",
              "      <td>9.13</td>\n",
              "      <td>59.30</td>\n",
              "      <td>19.56</td>\n",
              "      <td>11.60</td>\n",
              "      <td>7.96</td>\n",
              "      <td>7.29</td>\n",
              "      <td>11.66</td>\n",
              "      <td>1187.95</td>\n",
              "      <td>1.80</td>\n",
              "      <td>3.13</td>\n",
              "      <td>332.7</td>\n",
              "    </tr>\n",
              "    <tr>\n",
              "      <th>23999</th>\n",
              "      <td>16.06.2009 16:00:00</td>\n",
              "      <td>994.48</td>\n",
              "      <td>16.59</td>\n",
              "      <td>290.21</td>\n",
              "      <td>9.33</td>\n",
              "      <td>62.16</td>\n",
              "      <td>18.91</td>\n",
              "      <td>11.75</td>\n",
              "      <td>7.15</td>\n",
              "      <td>7.38</td>\n",
              "      <td>11.82</td>\n",
              "      <td>1190.30</td>\n",
              "      <td>1.98</td>\n",
              "      <td>3.38</td>\n",
              "      <td>345.1</td>\n",
              "    </tr>\n",
              "  </tbody>\n",
              "</table>\n",
              "<p>24000 rows × 15 columns</p>\n",
              "</div>"
            ],
            "text/plain": [
              "                 Date Time  p (mbar)  ...  max. wv (m/s)  wd (deg)\n",
              "0      01.01.2009 00:10:00    996.52  ...           1.75     152.3\n",
              "1      01.01.2009 00:20:00    996.57  ...           1.50     136.1\n",
              "2      01.01.2009 00:30:00    996.53  ...           0.63     171.6\n",
              "3      01.01.2009 00:40:00    996.51  ...           0.50     198.0\n",
              "4      01.01.2009 00:50:00    996.51  ...           0.63     214.3\n",
              "...                    ...       ...  ...            ...       ...\n",
              "23995  16.06.2009 15:20:00    994.32  ...           3.50     269.1\n",
              "23996  16.06.2009 15:30:00    994.20  ...           5.00     268.2\n",
              "23997  16.06.2009 15:40:00    994.17  ...           2.75     274.0\n",
              "23998  16.06.2009 15:50:00    994.28  ...           3.13     332.7\n",
              "23999  16.06.2009 16:00:00    994.48  ...           3.38     345.1\n",
              "\n",
              "[24000 rows x 15 columns]"
            ]
          },
          "metadata": {
            "tags": []
          },
          "execution_count": 94
        }
      ]
    },
    {
      "cell_type": "markdown",
      "metadata": {
        "id": "opgQLgJ6CZPg"
      },
      "source": [
        "#ML Time Series Proses"
      ]
    },
    {
      "cell_type": "code",
      "metadata": {
        "id": "Dy7dY0q-F5MS"
      },
      "source": [
        "from keras.layers import Dense, LSTM\n",
        "import matplotlib.pyplot as plt\n",
        "import tensorflow as tf"
      ],
      "execution_count": 95,
      "outputs": []
    },
    {
      "cell_type": "code",
      "metadata": {
        "colab": {
          "base_uri": "https://localhost:8080/",
          "height": 341
        },
        "id": "tBkQ4K2xF8EU",
        "outputId": "8d78f724-06da-4f28-ebe4-2e58b3d59036"
      },
      "source": [
        "dates = data_train['Date Time'].values\n",
        "temp  = data_train['T (degC)'].values\n",
        " \n",
        " \n",
        "plt.figure(figsize=(15,5))\n",
        "plt.plot(dates, temp)\n",
        "plt.title('Temperature average',\n",
        "          fontsize=20);"
      ],
      "execution_count": 96,
      "outputs": [
        {
          "output_type": "display_data",
          "data": {
            "image/png": "[encoded data removed]",
            "text/plain": [
              "<Figure size 1080x360 with 1 Axes>"
            ]
          },
          "metadata": {
            "tags": [],
            "needs_background": "light"
          }
        }
      ]
    },
    {
      "cell_type": "code",
      "metadata": {
        "id": "-7L0fKtsTg2T"
      },
      "source": [
        "dates_test=data_test['Date Time'].values\n",
        "temp_test=data_test['T (degC)'].values"
      ],
      "execution_count": 97,
      "outputs": []
    },
    {
      "cell_type": "code",
      "metadata": {
        "id": "ZmZa8-73GS4h"
      },
      "source": [
        "def windowed_dataset(series, window_size, batch_size, shuffle_buffer):\n",
        "    series = tf.expand_dims(series, axis=-1)\n",
        "    ds = tf.data.Dataset.from_tensor_slices(series)\n",
        "    ds = ds.window(window_size + 1, shift=1, drop_remainder=True)\n",
        "    ds = ds.flat_map(lambda w: w.batch(window_size + 1))\n",
        "    ds = ds.shuffle(shuffle_buffer)\n",
        "    ds = ds.map(lambda w: (w[:-1], w[-1:]))\n",
        "    return ds.batch(batch_size).prefetch(1)"
      ],
      "execution_count": 98,
      "outputs": []
    },
    {
      "cell_type": "code",
      "metadata": {
        "id": "F_v_pVogGVhv"
      },
      "source": [
        "train_set = windowed_dataset(temp, window_size=60, batch_size=100, shuffle_buffer=1000)\n",
        "model = tf.keras.models.Sequential([\n",
        "  tf.keras.layers.LSTM(60, return_sequences=True),\n",
        "  tf.keras.layers.LSTM(60),\n",
        "  tf.keras.layers.Dense(30, activation=\"relu\"),\n",
        "  tf.keras.layers.Dense(10, activation=\"relu\"),\n",
        "  tf.keras.layers.Dense(1),\n",
        "])"
      ],
      "execution_count": 99,
      "outputs": []
    },
    {
      "cell_type": "code",
      "metadata": {
        "id": "OOh9z3i3Zi13"
      },
      "source": [
        "test_set = windowed_dataset(temp_test, window_size=60, batch_size=100, shuffle_buffer=1000)"
      ],
      "execution_count": 100,
      "outputs": []
    },
    {
      "cell_type": "code",
      "metadata": {
        "id": "3KyJySwyCS8E"
      },
      "source": [
        "#Call back technique \n",
        "class TestCallback(tf.keras.callbacks.Callback): \n",
        "    def on_epoch_end(self, epoch, logs={}): \n",
        "        if(logs.get('mae') < 1 and logs.get('val_mae') < 1):\n",
        "            print(\"\\nMae < 1/50!\") \n",
        "            self.model.stop_training = True "
      ],
      "execution_count": 101,
      "outputs": []
    },
    {
      "cell_type": "code",
      "metadata": {
        "colab": {
          "base_uri": "https://localhost:8080/"
        },
        "id": "W21kzxh9GYZ0",
        "outputId": "36abad47-6ad6-4e64-8d21-802cb110dd0a"
      },
      "source": [
        "optimizer = tf.keras.optimizers.SGD(lr=1.0000e-04, momentum=0.9)\n",
        "model.compile(loss=tf.keras.losses.Huber(),\n",
        "              optimizer=optimizer,\n",
        "              metrics=[\"mae\"])\n",
        "history = model.fit(train_set,epochs=50, callbacks=[TestCallback()], validation_data=test_set)"
      ],
      "execution_count": 102,
      "outputs": [
        {
          "output_type": "stream",
          "text": [
            "/usr/local/lib/python3.7/dist-packages/tensorflow/python/keras/optimizer_v2/optimizer_v2.py:375: UserWarning: The `lr` argument is deprecated, use `learning_rate` instead.\n",
            "  \"The `lr` argument is deprecated, use `learning_rate` instead.\")\n"
          ],
          "name": "stderr"
        },
        {
          "output_type": "stream",
          "text": [
            "Epoch 1/50\n",
            "240/240 [==============================] - 9s 24ms/step - loss: 7.1680 - mae: 7.6500 - val_loss: 15.8206 - val_mae: 16.3206\n",
            "Epoch 2/50\n",
            "240/240 [==============================] - 5s 22ms/step - loss: 6.1484 - mae: 6.6218 - val_loss: 13.2948 - val_mae: 13.7948\n",
            "Epoch 3/50\n",
            "240/240 [==============================] - 6s 23ms/step - loss: 3.0422 - mae: 3.4796 - val_loss: 4.1871 - val_mae: 4.6600\n",
            "Epoch 4/50\n",
            "240/240 [==============================] - 6s 23ms/step - loss: 1.8333 - mae: 2.2428 - val_loss: 1.9626 - val_mae: 2.3925\n",
            "Epoch 5/50\n",
            "240/240 [==============================] - 5s 22ms/step - loss: 0.8363 - mae: 1.1891 - val_loss: 0.7856 - val_mae: 1.1463\n",
            "Epoch 6/50\n",
            "240/240 [==============================] - 6s 23ms/step - loss: 0.5926 - mae: 0.9120 - val_loss: 0.5238 - val_mae: 0.8826\n",
            "\n",
            "Mae < 1/50!\n"
          ],
          "name": "stdout"
        }
      ]
    },
    {
      "cell_type": "code",
      "metadata": {
        "colab": {
          "base_uri": "https://localhost:8080/",
          "height": 294
        },
        "id": "GuK7eGLdUX9P",
        "outputId": "5ad8d25d-2c95-47fe-c217-b25a740612e4"
      },
      "source": [
        "#Plot Loss dan Akurasi dari Trained Model\n",
        "import matplotlib.pyplot as plt\n",
        "plt.plot(history.history['loss'])\n",
        "plt.title('Model loss')\n",
        "plt.ylabel('Loss')\n",
        "plt.xlabel('Epoch')\n",
        "plt.legend(['Train'], loc='upper right')\n",
        "plt.show()"
      ],
      "execution_count": 103,
      "outputs": [
        {
          "output_type": "display_data",
          "data": {
            "image/png": "[encoded data removed]",
            "text/plain": [
              "<Figure size 432x288 with 1 Axes>"
            ]
          },
          "metadata": {
            "tags": [],
            "needs_background": "light"
          }
        }
      ]
    },
    {
      "cell_type": "code",
      "metadata": {
        "colab": {
          "base_uri": "https://localhost:8080/",
          "height": 294
        },
        "id": "Xes3OcZgaEsQ",
        "outputId": "ecb59c25-b405-4672-c7e5-2dfdaccd4b9c"
      },
      "source": [
        "plt.plot(history.history['mae'])\n",
        "plt.title('Model Mae')\n",
        "plt.ylabel('Mae')\n",
        "plt.xlabel('Epoch')\n",
        "plt.legend(['Train'], loc='lower right')\n",
        "plt.show()"
      ],
      "execution_count": 104,
      "outputs": [
        {
          "output_type": "display_data",
          "data": {
            "image/png": "[encoded data removed]",
            "text/plain": [
              "<Figure size 432x288 with 1 Axes>"
            ]
          },
          "metadata": {
            "tags": [],
            "needs_background": "light"
          }
        }
      ]
    },
    {
      "cell_type": "code",
      "metadata": {
        "colab": {
          "base_uri": "https://localhost:8080/",
          "height": 294
        },
        "id": "czhQAkgIaItp",
        "outputId": "c8eebb15-2d2d-48e4-bb89-cc13600ef14f"
      },
      "source": [
        "plt.plot(history.history['val_loss'])\n",
        "plt.title('Model val loss')\n",
        "plt.ylabel('Loss')\n",
        "plt.xlabel('Epoch')\n",
        "plt.legend(['Test'], loc='upper right')\n",
        "plt.show()"
      ],
      "execution_count": 105,
      "outputs": [
        {
          "output_type": "display_data",
          "data": {
            "image/png": "[encoded data removed]",
            "text/plain": [
              "<Figure size 432x288 with 1 Axes>"
            ]
          },
          "metadata": {
            "tags": [],
            "needs_background": "light"
          }
        }
      ]
    },
    {
      "cell_type": "code",
      "metadata": {
        "colab": {
          "base_uri": "https://localhost:8080/",
          "height": 294
        },
        "id": "6UFlP3DLaJjo",
        "outputId": "5f033190-be81-43d8-fb17-881743eb4a06"
      },
      "source": [
        "plt.plot(history.history['val_mae'])\n",
        "plt.title('Model Val Mae')\n",
        "plt.ylabel('Mae')\n",
        "plt.xlabel('Epoch')\n",
        "plt.legend(['Test'], loc='lower right')\n",
        "plt.show()"
      ],
      "execution_count": 106,
      "outputs": [
        {
          "output_type": "display_data",
          "data": {
            "image/png": "[encoded data removed]",
            "text/plain": [
              "<Figure size 432x288 with 1 Axes>"
            ]
          },
          "metadata": {
            "tags": [],
            "needs_background": "light"
          }
        }
      ]
    }
  ]
}
