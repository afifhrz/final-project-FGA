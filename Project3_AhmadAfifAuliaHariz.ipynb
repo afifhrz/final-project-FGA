{
  "nbformat": 4,
  "nbformat_minor": 0,
  "metadata": {
    "colab": {
      "name": "Project3.ipynb",
      "provenance": []
    },
    "kernelspec": {
      "name": "python3",
      "display_name": "Python 3"
    },
    "language_info": {
      "name": "python"
    },
    "accelerator": "GPU"
  },
  "cells": [
    {
      "cell_type": "markdown",
      "metadata": {
        "id": "zsS_p2t5d4Nm"
      },
      "source": [
        "#Ahmad Afif Aulia Hariz\n",
        "username: ahmad_afif_a._hariz_6mkN"
      ]
    },
    {
      "cell_type": "markdown",
      "metadata": {
        "id": "SKeX25mSeZqF"
      },
      "source": [
        "#Data Mounting"
      ]
    },
    {
      "cell_type": "code",
      "metadata": {
        "id": "YJl4njzHq2x2",
        "colab": {
          "base_uri": "https://localhost:8080/"
        },
        "outputId": "48fb2bec-6eff-47af-e075-7960f4e68472"
      },
      "source": [
        "from google.colab import drive\n",
        "drive.mount('/content/drive', force_remount=True)"
      ],
      "execution_count": 1,
      "outputs": [
        {
          "output_type": "stream",
          "text": [
            "Mounted at /content/drive\n"
          ],
          "name": "stdout"
        }
      ]
    },
    {
      "cell_type": "code",
      "metadata": {
        "id": "Jisuyb9Vd_D9"
      },
      "source": [
        "import pandas as pd\n",
        "import numpy as np"
      ],
      "execution_count": 2,
      "outputs": []
    },
    {
      "cell_type": "code",
      "metadata": {
        "id": "Fd0yL_1deBve"
      },
      "source": [
        "import os\n",
        "import zipfile\n",
        "local_zip = '/content/drive/MyDrive/Colab Notebooks/seg_train.zip'\n",
        "zip_ref = zipfile.ZipFile(local_zip, 'r')\n",
        "zip_ref.extractall('/tmp')\n",
        "zip_ref.close()"
      ],
      "execution_count": 3,
      "outputs": []
    },
    {
      "cell_type": "code",
      "metadata": {
        "colab": {
          "base_uri": "https://localhost:8080/"
        },
        "id": "n1p4kRuggZln",
        "outputId": "1854e9f5-bf47-4d08-fefd-83eb45499eef"
      },
      "source": [
        "os.listdir('/tmp/seg_train')"
      ],
      "execution_count": 4,
      "outputs": [
        {
          "output_type": "execute_result",
          "data": {
            "text/plain": [
              "['buildings', 'glacier', 'sea', 'street', 'mountain', 'forest']"
            ]
          },
          "metadata": {
            "tags": []
          },
          "execution_count": 4
        }
      ]
    },
    {
      "cell_type": "code",
      "metadata": {
        "colab": {
          "base_uri": "https://localhost:8080/"
        },
        "id": "G1reKkqMVcN_",
        "outputId": "dfa7e26e-956d-405d-a5a9-dceeffb29c91"
      },
      "source": [
        "print('total building images :', len(os.listdir('/tmp/seg_train/buildings')))\n",
        "print('total glacier images :', len(os.listdir('/tmp/seg_train/glacier')))\n",
        "print('total sea images :', len(os.listdir('/tmp/seg_train/sea')))\n",
        "print('total street images :', len(os.listdir('/tmp/seg_train/street')))\n",
        "print('total mountain images :', len(os.listdir('/tmp/seg_train/mountain')))\n",
        "print('total forest images :', len(os.listdir('/tmp/seg_train/forest')))"
      ],
      "execution_count": 5,
      "outputs": [
        {
          "output_type": "stream",
          "text": [
            "total building images : 2191\n",
            "total glacier images : 2404\n",
            "total sea images : 2274\n",
            "total street images : 2382\n",
            "total mountain images : 2512\n",
            "total forest images : 2271\n"
          ],
          "name": "stdout"
        }
      ]
    },
    {
      "cell_type": "markdown",
      "metadata": {
        "id": "g0PIVMIHhPR4"
      },
      "source": [
        "#Data Preparation"
      ]
    },
    {
      "cell_type": "code",
      "metadata": {
        "id": "zv7Zu_dlhT8S"
      },
      "source": [
        "from tensorflow.keras.preprocessing.image import ImageDataGenerator\n",
        " \n",
        " \n",
        "train_dir = os.path.join('/tmp/seg_train')\n",
        "train_datagen = ImageDataGenerator(rescale=1./255,\n",
        "    rotation_range=20,\n",
        "    zoom_range=0.2,\n",
        "    shear_range=0.2,\n",
        "    fill_mode = 'nearest',\n",
        "    validation_split=0.2) # set validation split"
      ],
      "execution_count": 6,
      "outputs": []
    },
    {
      "cell_type": "code",
      "metadata": {
        "colab": {
          "base_uri": "https://localhost:8080/"
        },
        "id": "edCVL5z1kG9m",
        "outputId": "11b01348-7bea-49ad-8b76-afd649136c21"
      },
      "source": [
        "train_generator = train_datagen.flow_from_directory(\n",
        "    train_dir,\n",
        "    target_size=(150, 150),\n",
        "    batch_size=128,\n",
        "    class_mode='sparse',\n",
        "    subset='training') # set as training data\n",
        "validation_generator = train_datagen.flow_from_directory(\n",
        "    train_dir, # same directory as training data\n",
        "    target_size=(150, 150),\n",
        "    batch_size=128,\n",
        "    class_mode='sparse',\n",
        "    subset='validation')"
      ],
      "execution_count": 18,
      "outputs": [
        {
          "output_type": "stream",
          "text": [
            "Found 11230 images belonging to 6 classes.\n",
            "Found 2804 images belonging to 6 classes.\n"
          ],
          "name": "stdout"
        }
      ]
    },
    {
      "cell_type": "markdown",
      "metadata": {
        "id": "yBTT8rznkeH0"
      },
      "source": [
        "#Model Processing"
      ]
    },
    {
      "cell_type": "code",
      "metadata": {
        "colab": {
          "base_uri": "https://localhost:8080/",
          "height": 100
        },
        "id": "AWi4opu8kdTT",
        "outputId": "261b6eab-029a-44e3-8a33-8e1149ac7ec8"
      },
      "source": [
        "'''\n",
        "import tensorflow as tf\n",
        "model = tf.keras.models.Sequential([\n",
        "    # Note the input shape is the desired size of the image 150x150 with 3 bytes color\n",
        "    tf.keras.layers.Conv2D(64, (3,3), activation='relu', input_shape=(150, 150, 3)),\n",
        "    tf.keras.layers.MaxPooling2D(2,2),\n",
        "    tf.keras.layers.Conv2D(32, (3,3), activation='relu'),\n",
        "    tf.keras.layers.MaxPooling2D(2,2),\n",
        "    tf.keras.layers.Dropout(0.4),  \n",
        "    tf.keras.layers.Conv2D(64, (3,3), activation='relu'), \n",
        "    tf.keras.layers.MaxPooling2D(2,2),\n",
        "    tf.keras.layers.Dropout(0.4),  \n",
        "    # Flatten the results to feed into a DNN\n",
        "    tf.keras.layers.Flatten(), \n",
        "    # 512 neuron hidden layer\n",
        "    tf.keras.layers.Dense(512, activation='relu'),\n",
        "    tf.keras.layers.Dense(256, activation='relu'),\n",
        "    tf.keras.layers.Dense(6, activation='softmax')  \n",
        "])\n",
        "'''"
      ],
      "execution_count": 75,
      "outputs": [
        {
          "output_type": "execute_result",
          "data": {
            "application/vnd.google.colaboratory.intrinsic+json": {
              "type": "string"
            },
            "text/plain": [
              "\"\\nimport tensorflow as tf\\nmodel = tf.keras.models.Sequential([\\n    # Note the input shape is the desired size of the image 150x150 with 3 bytes color\\n    tf.keras.layers.Conv2D(64, (3,3), activation='relu', input_shape=(150, 150, 3)),\\n    tf.keras.layers.MaxPooling2D(2,2),\\n    tf.keras.layers.Conv2D(32, (3,3), activation='relu'),\\n    tf.keras.layers.MaxPooling2D(2,2),\\n    tf.keras.layers.Dropout(0.4),  \\n    tf.keras.layers.Conv2D(64, (3,3), activation='relu'), \\n    tf.keras.layers.MaxPooling2D(2,2),\\n    tf.keras.layers.Dropout(0.4),  \\n    # Flatten the results to feed into a DNN\\n    tf.keras.layers.Flatten(), \\n    # 512 neuron hidden layer\\n    tf.keras.layers.Dense(512, activation='relu'),\\n    tf.keras.layers.Dense(256, activation='relu'),\\n    tf.keras.layers.Dense(6, activation='softmax')  \\n])\\n\""
            ]
          },
          "metadata": {
            "tags": []
          },
          "execution_count": 75
        }
      ]
    },
    {
      "cell_type": "code",
      "metadata": {
        "id": "wnIlTOXssxL6"
      },
      "source": [
        "import tensorflow as tf\n",
        "model = tf.keras.models.Sequential([\n",
        "      tf.keras.layers.Conv2D(32, (3, 3), input_shape=(150, 150, 3), kernel_initializer='he_uniform', padding='same'),\n",
        "      tf.keras.layers.Activation('relu'),\n",
        "      tf.keras.layers.Conv2D(32, (3, 3), activation='relu', kernel_initializer='he_uniform', padding='same'),\n",
        "      tf.keras.layers.MaxPooling2D((2, 2)),\n",
        "      tf.keras.layers.Dropout(0.2),\n",
        "      tf.keras.layers.Conv2D(64, (3, 3), activation='relu', kernel_initializer='he_uniform', padding='same'),\n",
        "      tf.keras.layers.MaxPooling2D((2, 2)),\n",
        "      tf.keras.layers.Dropout(0.3),\n",
        "      tf.keras.layers.Conv2D(128, (3, 3), activation='relu', kernel_initializer='he_uniform', padding='same'),\n",
        "      tf.keras.layers.MaxPooling2D((2, 2)),\n",
        "      tf.keras.layers.Dropout(0.4),\n",
        "      tf.keras.layers.Flatten(),\n",
        "      tf.keras.layers.Dense(32, activation='relu', kernel_initializer='he_uniform'),\n",
        "      tf.keras.layers.Dense(32, activation='relu', kernel_initializer='he_uniform'),\n",
        "      tf.keras.layers.Dense(6, activation='softmax')\n",
        "])"
      ],
      "execution_count": 95,
      "outputs": []
    },
    {
      "cell_type": "code",
      "metadata": {
        "id": "L88OGQA0XZAR"
      },
      "source": [
        "import tensorflow as tf\n",
        "model = tf.keras.models.Sequential([\n",
        "                                    tf.keras.applications.resnet_v2.ResNet50V2(input_shape=(150,150,3), \n",
        "    include_top=False , weights= 'imagenet', input_tensor=None, pooling=None),\n",
        "    tf.keras.layers.Conv2D(32, (3, 3), activation='relu'),\n",
        "    tf.keras.layers.MaxPooling2D((2, 2)),\n",
        "    tf.keras.layers.GlobalAveragePooling2D(),\n",
        "    tf.keras.layers.Flatten(),\n",
        "    tf.keras.layers.Dropout(0.5),\n",
        "    tf.keras.layers.Dense(1000 ,activation = 'relu'),\n",
        "    tf.keras.layers.Dropout(0.5),\n",
        "    tf.keras.layers.Dense(1000 ,activation = 'relu'),\n",
        "    tf.keras.layers.Dense(6 ,activation = 'softmax')\n",
        "])"
      ],
      "execution_count": 22,
      "outputs": []
    },
    {
      "cell_type": "code",
      "metadata": {
        "colab": {
          "base_uri": "https://localhost:8080/"
        },
        "id": "XW2s7rexQBWJ",
        "outputId": "944c0608-d795-4123-990d-0dbb7d9103d3"
      },
      "source": [
        "model.summary()"
      ],
      "execution_count": 23,
      "outputs": [
        {
          "output_type": "stream",
          "text": [
            "Model: \"sequential_3\"\n",
            "_________________________________________________________________\n",
            "Layer (type)                 Output Shape              Param #   \n",
            "=================================================================\n",
            "resnet50v2 (Functional)      (None, 5, 5, 2048)        23564800  \n",
            "_________________________________________________________________\n",
            "conv2d_2 (Conv2D)            (None, 3, 3, 32)          589856    \n",
            "_________________________________________________________________\n",
            "max_pooling2d_14 (MaxPooling (None, 1, 1, 32)          0         \n",
            "_________________________________________________________________\n",
            "global_average_pooling2d_3 ( (None, 32)                0         \n",
            "_________________________________________________________________\n",
            "flatten_3 (Flatten)          (None, 32)                0         \n",
            "_________________________________________________________________\n",
            "dropout_6 (Dropout)          (None, 32)                0         \n",
            "_________________________________________________________________\n",
            "dense_9 (Dense)              (None, 1000)              33000     \n",
            "_________________________________________________________________\n",
            "dropout_7 (Dropout)          (None, 1000)              0         \n",
            "_________________________________________________________________\n",
            "dense_10 (Dense)             (None, 1000)              1001000   \n",
            "_________________________________________________________________\n",
            "dense_11 (Dense)             (None, 6)                 6006      \n",
            "=================================================================\n",
            "Total params: 25,194,662\n",
            "Trainable params: 25,149,222\n",
            "Non-trainable params: 45,440\n",
            "_________________________________________________________________\n"
          ],
          "name": "stdout"
        }
      ]
    },
    {
      "cell_type": "code",
      "metadata": {
        "id": "fx-5O4Muk41F"
      },
      "source": [
        "#Call back technique \n",
        "class TestCallback(tf.keras.callbacks.Callback): \n",
        "    def on_epoch_end(self, epoch, logs={}): \n",
        "        if(logs.get('accuracy') > 0.85 and logs.get('val_accuracy') > 0.85):\n",
        "            print(\"\\nAccuracy dan val accuracy mencapai 85%!\") \n",
        "            self.model.stop_training = True "
      ],
      "execution_count": 27,
      "outputs": []
    },
    {
      "cell_type": "code",
      "metadata": {
        "colab": {
          "base_uri": "https://localhost:8080/"
        },
        "id": "VU0F0XqfkxIT",
        "outputId": "f952d9e3-86ce-4f18-c8b3-e2fe88f07f6b"
      },
      "source": [
        "opt = tf.keras.optimizers.SGD(lr=1.0000e-04, momentum=0.9)\n",
        "model.compile(optimizer=tf.keras.optimizers.RMSprop(),\n",
        "              loss='SparseCategoricalCrossentropy',\n",
        "              metrics = ['accuracy'])"
      ],
      "execution_count": 25,
      "outputs": [
        {
          "output_type": "stream",
          "text": [
            "/usr/local/lib/python3.7/dist-packages/tensorflow/python/keras/optimizer_v2/optimizer_v2.py:375: UserWarning: The `lr` argument is deprecated, use `learning_rate` instead.\n",
            "  \"The `lr` argument is deprecated, use `learning_rate` instead.\")\n"
          ],
          "name": "stderr"
        }
      ]
    },
    {
      "cell_type": "code",
      "metadata": {
        "colab": {
          "base_uri": "https://localhost:8080/"
        },
        "id": "ns7MqLsHkzCG",
        "outputId": "9687dd5c-e9e8-453d-d6b0-cde44937f755"
      },
      "source": [
        "history = model.fit(train_generator, steps_per_epoch=44,                      \n",
        "                              validation_data=validation_generator,\n",
        "                              epochs=25,\n",
        "                              verbose=1,\n",
        "                              callbacks=[TestCallback()])"
      ],
      "execution_count": 28,
      "outputs": [
        {
          "output_type": "stream",
          "text": [
            "Epoch 1/25\n",
            " 6/44 [===>..........................] - ETA: 46s - loss: 0.3319 - accuracy: 0.9049WARNING:tensorflow:Callback method `on_train_batch_end` is slow compared to the batch time (batch time: 0.5399s vs `on_train_batch_end` time: 0.6947s). Check your callbacks.\n",
            "44/44 [==============================] - 76s 2s/step - loss: 0.3384 - accuracy: 0.9036 - val_loss: 0.9256 - val_accuracy: 0.7193\n",
            "Epoch 2/25\n",
            "44/44 [==============================] - 75s 2s/step - loss: 0.3319 - accuracy: 0.8992 - val_loss: 0.8351 - val_accuracy: 0.7889\n",
            "Epoch 3/25\n",
            "44/44 [==============================] - 74s 2s/step - loss: 0.3204 - accuracy: 0.9069 - val_loss: 2.0222 - val_accuracy: 0.5688\n",
            "Epoch 4/25\n",
            "44/44 [==============================] - 74s 2s/step - loss: 0.3414 - accuracy: 0.9045 - val_loss: 0.4988 - val_accuracy: 0.8509\n",
            "\n",
            "Accuracy dan val accuracy mencapai 85%!\n"
          ],
          "name": "stdout"
        }
      ]
    },
    {
      "cell_type": "code",
      "metadata": {
        "colab": {
          "base_uri": "https://localhost:8080/"
        },
        "id": "vEHMgr6HnU5n",
        "outputId": "8b8f2c0b-1bee-4816-9dcb-c75fdc4d4a7b"
      },
      "source": [
        "model.evaluate(validation_generator)"
      ],
      "execution_count": 29,
      "outputs": [
        {
          "output_type": "stream",
          "text": [
            "22/22 [==============================] - 19s 871ms/step - loss: 0.4817 - accuracy: 0.8534\n"
          ],
          "name": "stdout"
        },
        {
          "output_type": "execute_result",
          "data": {
            "text/plain": [
              "[0.4817211925983429, 0.8534236550331116]"
            ]
          },
          "metadata": {
            "tags": []
          },
          "execution_count": 29
        }
      ]
    },
    {
      "cell_type": "markdown",
      "metadata": {
        "id": "tRL4AmURePoU"
      },
      "source": [
        "#Ploting"
      ]
    },
    {
      "cell_type": "code",
      "metadata": {
        "colab": {
          "base_uri": "https://localhost:8080/",
          "height": 295
        },
        "id": "HXks9Le0MO_i",
        "outputId": "7940df30-2aa1-4d91-bedc-a01c2d9c903b"
      },
      "source": [
        "#Plot Loss dan Akurasi dari Trained Model\n",
        "import matplotlib.pyplot as plt\n",
        "plt.plot(history.history['loss'])\n",
        "plt.title('Model loss')\n",
        "plt.ylabel('Loss')\n",
        "plt.xlabel('Epoch')\n",
        "plt.legend(['Train'], loc='upper right')\n",
        "plt.show()"
      ],
      "execution_count": 34,
      "outputs": [
        {
          "output_type": "display_data",
          "data": {
            "image/png": "[encoded data removed]",
            "text/plain": [
              "<Figure size 432x288 with 1 Axes>"
            ]
          },
          "metadata": {
            "tags": [],
            "needs_background": "light"
          }
        }
      ]
    },
    {
      "cell_type": "code",
      "metadata": {
        "colab": {
          "base_uri": "https://localhost:8080/",
          "height": 295
        },
        "id": "f2B5HI1WMZri",
        "outputId": "ee1c50d4-b2d2-41b6-fac0-65af1bb68f03"
      },
      "source": [
        "plt.plot(history.history['accuracy'])\n",
        "plt.title('Model accuracy')\n",
        "plt.ylabel('Accuracy')\n",
        "plt.xlabel('Epoch')\n",
        "plt.legend(['Train'], loc='lower right')\n",
        "plt.show()"
      ],
      "execution_count": 35,
      "outputs": [
        {
          "output_type": "display_data",
          "data": {
            "image/png": "[encoded data removed]",
            "text/plain": [
              "<Figure size 432x288 with 1 Axes>"
            ]
          },
          "metadata": {
            "tags": [],
            "needs_background": "light"
          }
        }
      ]
    },
    {
      "cell_type": "code",
      "metadata": {
        "colab": {
          "base_uri": "https://localhost:8080/",
          "height": 295
        },
        "id": "wn8EhQ11Yw72",
        "outputId": "14ea402e-4ae8-4317-e103-6767d268f7ce"
      },
      "source": [
        "plt.plot(history.history['val_loss'])\n",
        "plt.title('Model val loss')\n",
        "plt.ylabel('Loss')\n",
        "plt.xlabel('Epoch')\n",
        "plt.legend(['Train'], loc='upper right')\n",
        "plt.show()"
      ],
      "execution_count": 36,
      "outputs": [
        {
          "output_type": "display_data",
          "data": {
            "image/png": "[encoded data removed]",
            "text/plain": [
              "<Figure size 432x288 with 1 Axes>"
            ]
          },
          "metadata": {
            "tags": [],
            "needs_background": "light"
          }
        }
      ]
    },
    {
      "cell_type": "code",
      "metadata": {
        "colab": {
          "base_uri": "https://localhost:8080/",
          "height": 295
        },
        "id": "h9PAir4LY2es",
        "outputId": "3dff1a97-d6f2-4db9-8ace-6774c884393c"
      },
      "source": [
        "plt.plot(history.history['val_accuracy'])\n",
        "plt.title('Model val accuracy')\n",
        "plt.ylabel('Accuracy')\n",
        "plt.xlabel('Epoch')\n",
        "plt.legend(['Train'], loc='lower right')\n",
        "plt.show()"
      ],
      "execution_count": 37,
      "outputs": [
        {
          "output_type": "display_data",
          "data": {
            "image/png": "[encoded data removed]",
            "text/plain": [
              "<Figure size 432x288 with 1 Axes>"
            ]
          },
          "metadata": {
            "tags": [],
            "needs_background": "light"
          }
        }
      ]
    },
    {
      "cell_type": "markdown",
      "metadata": {
        "id": "PZfD7RvTlJwY"
      },
      "source": [
        "#Saving to TF-Lite"
      ]
    },
    {
      "cell_type": "code",
      "metadata": {
        "colab": {
          "base_uri": "https://localhost:8080/"
        },
        "id": "K_OKWIndlMfc",
        "outputId": "297987e9-a9fa-44ab-a725-4526e78540a1"
      },
      "source": [
        "# Konversi model.\n",
        "converter = tf.lite.TFLiteConverter.from_keras_model(model)\n",
        "tflite_model = converter.convert()"
      ],
      "execution_count": 38,
      "outputs": [
        {
          "output_type": "stream",
          "text": [
            "/usr/local/lib/python3.7/dist-packages/tensorflow/python/keras/utils/generic_utils.py:497: CustomMaskWarning: Custom mask layers require a config and must override get_config. When loading, the custom mask layer must be passed to the custom_objects argument.\n",
            "  category=CustomMaskWarning)\n"
          ],
          "name": "stderr"
        },
        {
          "output_type": "stream",
          "text": [
            "INFO:tensorflow:Assets written to: /tmp/tmpg2kngb08/assets\n"
          ],
          "name": "stdout"
        }
      ]
    },
    {
      "cell_type": "code",
      "metadata": {
        "id": "DzRg6aimlbti"
      },
      "source": [
        "with tf.io.gfile.GFile('model.tflite', 'wb') as f:\n",
        "  f.write(tflite_model)"
      ],
      "execution_count": 39,
      "outputs": []
    }
  ]
}
